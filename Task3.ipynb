{
 "cells": [
  {
   "cell_type": "markdown",
   "id": "e79433a0-ccc0-479a-8a55-51f3ec0ca9b7",
   "metadata": {},
   "source": [
    "# <center>__QOSF Quantum Computing Mentorship Program__</center>"
   ]
  },
  {
   "cell_type": "markdown",
   "id": "07162367-879d-4fdc-a98f-4cff8e11323a",
   "metadata": {},
   "source": [
    "<center><img src=\"qosf.png\" width=\"30%\" /></center>"
   ]
  },
  {
   "cell_type": "markdown",
   "id": "ca092db5-e35c-47d4-871f-66dc79b0a5cd",
   "metadata": {},
   "source": [
    "## __Cohort 8 Screening Tasks - Task 3: Decomposition__"
   ]
  },
  {
   "cell_type": "markdown",
   "id": "27ab79dd-9bc6-4109-a1b7-aa425308411b",
   "metadata": {},
   "source": [
    "Using the $U$ and $CX$ gates shown below, decompose the matrices to obtain $CCX$ and $CCCX$ gates. As a bonus, create a method for constructing any multi-controlled $X$ gate."
   ]
  },
  {
   "cell_type": "markdown",
   "id": "af6dfabf-56c8-471a-be1d-d6bf4cf9afca",
   "metadata": {},
   "source": [
    "$$\n",
    "\\begin{equation}\n",
    "\\tag{1}\n",
    "U(\\theta,\\phi,\\lambda)=\n",
    "\\begin{pmatrix} \n",
    "\\cos \\frac{\\theta}{2}\\ & -e^{i\\lambda} \\sin \\frac{\\theta}{2}\\ \\\\\\ \n",
    "e^{i\\phi} \\sin \\frac{\\theta}{2}\\ & e^{i(\\phi+\\lambda)} \\cos \\frac{\\theta}{2}\\ \n",
    "\\end{pmatrix}\n",
    "\\end{equation}\n",
    "$$"
   ]
  },
  {
   "cell_type": "markdown",
   "id": "f2ec8efa-5bfd-422b-95e2-7eb03cf936ee",
   "metadata": {},
   "source": [
    "$$\n",
    "\\begin{equation}\n",
    "\\tag{2}\n",
    "CX=\\begin{pmatrix} \n",
    "1 & 0 & 0 & 0 \\\\\\ \n",
    "0 & 1 & 0 & 0 \\\\\\ \n",
    "0 & 0 & 0 & 1 \\\\\\ \n",
    "0 & 0 & 1 & 0 \n",
    "\\end{pmatrix}\n",
    "\\end{equation}\n",
    "$$"
   ]
  },
  {
   "cell_type": "markdown",
   "id": "edaf6b0e-b536-478e-904a-ff0c6ba0ca8f",
   "metadata": {},
   "source": [
    "$$\n",
    "\\begin{equation}\n",
    "\\tag{3}\n",
    "CCX=\\begin{pmatrix} \n",
    "1 & 0 & 0 & 0 & 0 & 0 & 0 & 0 \\\\\\ \n",
    "0 & 1 & 0 & 0 & 0 & 0 & 0 & 0 \\\\\\ \n",
    "0 & 0 & 1 & 0 & 0 & 0 & 0 & 0 \\\\\\ \n",
    "0 & 0 & 0 & 1 & 0 & 0 & 0 & 0 \\\\\\ \n",
    "0 & 0 & 0 & 0 & 1 & 0 & 0 & 0 \\\\\\\n",
    "0 & 0 & 0 & 0 & 0 & 1 & 0 & 0 \\\\\\\n",
    "0 & 0 & 0 & 0 & 0 & 0 & 0 & 1 \\\\\\\n",
    "0 & 0 & 0 & 0 & 0 & 0 & 1 & 0 \n",
    "\\end{pmatrix}\n",
    "\\end{equation}\n",
    "$$"
   ]
  },
  {
   "cell_type": "markdown",
   "id": "5b339d2e-f922-4f65-9dc5-7f157ebbdd3f",
   "metadata": {},
   "source": [
    "$$\n",
    "\\begin{equation}\n",
    "\\tag{4}\n",
    "CCCX=\\begin{pmatrix} \n",
    "1 & 0 & 0 & 0 & 0 & 0 & 0 & 0 & 0 & 0 & 0 & 0 & 0 & 0 & 0 & 0 \\\\\\ \n",
    "0 & 1 & 0 & 0 & 0 & 0 & 0 & 0 & 0 & 0 & 0 & 0 & 0 & 0 & 0 & 0\\\\\\ \n",
    "0 & 0 & 1 & 0 & 0 & 0 & 0 & 0 & 0 & 0 & 0 & 0 & 0 & 0 & 0 & 0\\\\\\ \n",
    "0 & 0 & 0 & 1 & 0 & 0 & 0 & 0 & 0 & 0 & 0 & 0 & 0 & 0 & 0 & 0\\\\\\ \n",
    "0 & 0 & 0 & 0 & 1 & 0 & 0 & 0 & 0 & 0 & 0 & 0 & 0 & 0 & 0 & 0\\\\\\\n",
    "0 & 0 & 0 & 0 & 0 & 1 & 0 & 0 & 0 & 0 & 0 & 0 & 0 & 0 & 0 & 0\\\\\\\n",
    "0 & 0 & 0 & 0 & 0 & 0 & 1 & 0 & 0 & 0 & 0 & 0 & 0 & 0 & 0 & 0\\\\\\\n",
    "0 & 0 & 0 & 0 & 0 & 0 & 0 & 1 & 0 & 0 & 0 & 0 & 0 & 0 & 0 & 0\\\\\\\n",
    "0 & 0 & 0 & 0 & 0 & 0 & 0 & 0 & 1 & 0 & 0 & 0 & 0 & 0 & 0 & 0\\\\\\\n",
    "0 & 0 & 0 & 0 & 0 & 0 & 0 & 0 & 0 & 1 & 0 & 0 & 0 & 0 & 0 & 0\\\\\\\n",
    "0 & 0 & 0 & 0 & 0 & 0 & 0 & 0 & 0 & 0 & 1 & 0 & 0 & 0 & 0 & 0\\\\\\\n",
    "0 & 0 & 0 & 0 & 0 & 0 & 0 & 0 & 0 & 0 & 0 & 1 & 0 & 0 & 0 & 0\\\\\\\n",
    "0 & 0 & 0 & 0 & 0 & 0 & 0 & 0 & 0 & 0 & 0 & 0 & 1 & 0 & 0 & 0\\\\\\\n",
    "0 & 0 & 0 & 0 & 0 & 0 & 0 & 0 & 0 & 0 & 0 & 0 & 0 & 1 & 0 & 0\\\\\\\n",
    "0 & 0 & 0 & 0 & 0 & 0 & 0 & 0 & 0 & 0 & 0 & 0 & 0 & 0 & 0 & 1\\\\\\\n",
    "0 & 0 & 0 & 0 & 0 & 0 & 0 & 0 & 0 & 0 & 0 & 0 & 0 & 0 & 1 & 0\n",
    "\\end{pmatrix}\n",
    "\\end{equation}\n",
    "$$"
   ]
  },
  {
   "cell_type": "markdown",
   "id": "71c57295-579a-4b62-80e8-054be8d4a65e",
   "metadata": {},
   "source": [
    "### __1. Import libraries__ "
   ]
  },
  {
   "cell_type": "markdown",
   "id": "8e0ea99b-d554-4d98-a41b-818119281865",
   "metadata": {},
   "source": [
    "#### Python 3"
   ]
  },
  {
   "cell_type": "code",
   "execution_count": 1,
   "id": "970dd6a0-37ae-4fbb-afec-db1602819fd6",
   "metadata": {},
   "outputs": [],
   "source": [
    "import numpy as np\n",
    "from math import pi"
   ]
  },
  {
   "cell_type": "markdown",
   "id": "39b365dc-141d-4f79-93ff-a270f6b55b6f",
   "metadata": {},
   "source": [
    "#### Qiskit"
   ]
  },
  {
   "cell_type": "code",
   "execution_count": 2,
   "id": "cdbb7ad7-14e7-4c1b-a889-68cb117b3389",
   "metadata": {},
   "outputs": [],
   "source": [
    "from qiskit import QuantumCircuit, QuantumRegister\n",
    "from qiskit.tools.visualization import circuit_drawer\n",
    "from qiskit.visualization import array_to_latex\n",
    "from qiskit.quantum_info.operators import Operator"
   ]
  },
  {
   "cell_type": "markdown",
   "id": "8dc07fa0-bc4a-4197-97ac-25c5f694d16a",
   "metadata": {},
   "source": [
    "### __2. Derive the I (= Identity) and the X (= NOT) gates using the U gate__ "
   ]
  },
  {
   "cell_type": "code",
   "execution_count": 3,
   "id": "a6ddb31f-6e7c-48f7-a525-05d6f8f0fa47",
   "metadata": {},
   "outputs": [],
   "source": [
    "q = QuantumRegister(1) # Single-Qubit gate"
   ]
  },
  {
   "cell_type": "markdown",
   "id": "75bfa8cc-58d1-47e0-828d-86b9491bfd8b",
   "metadata": {},
   "source": [
    "The $U$ gate is a gate that does a rotation around the Bloch sphere with three Euler angles. The three angles used to perform the rotations are $\\theta$, $\\phi$, and $\\lambda$."
   ]
  },
  {
   "cell_type": "markdown",
   "id": "ea2b2623-2baa-4023-a663-88959ad23bb1",
   "metadata": {},
   "source": [
    "$$\n",
    "\\begin{equation}\n",
    "\\tag{1}\n",
    "U(\\theta,\\phi,\\lambda)=\n",
    "\\begin{pmatrix} \n",
    "\\cos \\frac{\\theta}{2}\\ & -e^{i\\lambda} \\sin \\frac{\\theta}{2}\\ \\\\\\ \n",
    "e^{i\\phi} \\sin \\frac{\\theta}{2}\\ & e^{i(\\phi+\\lambda)} \\cos \\frac{\\theta}{2}\\ \n",
    "\\end{pmatrix}\n",
    "\\end{equation}\n",
    "$$"
   ]
  },
  {
   "cell_type": "markdown",
   "id": "4c725d10-22e3-43a5-84ad-5fbe795c5d29",
   "metadata": {},
   "source": [
    "The $U$ gate can replicate any other single qubit gate. For example, to replicate the $I$ = (Identity) gate, you would rotate all the three Euler angles by $0$."
   ]
  },
  {
   "cell_type": "markdown",
   "id": "b55f72ea-8523-401f-8511-4bd89fb52da3",
   "metadata": {},
   "source": [
    "$$\\eqalign{\n",
    "U(0,0,0) & = \\begin{pmatrix} \n",
    "             \\cos 0 & -e^{0} \\sin 0 \\\\\\ \n",
    "             e^{0} \\sin 0 & e^{0} \\cos 0 \n",
    "             \\end{pmatrix} \\\\\n",
    "         & = \\begin{pmatrix} \n",
    "             1 & 0 \\\\\\ \n",
    "             0 & 1 \n",
    "             \\end{pmatrix} \\\\\n",
    "         & = I\n",
    "}$$"
   ]
  },
  {
   "cell_type": "code",
   "execution_count": 4,
   "id": "95c11beb-3a44-40ee-86af-5c5a272fae84",
   "metadata": {},
   "outputs": [
    {
     "data": {
      "text/html": [
       "<pre style=\"word-wrap: normal;white-space: pre;background: #fff0;line-height: 1.1;font-family: &quot;Courier New&quot;,Courier,monospace\">    ┌──────────┐\n",
       "q0: ┤ U(0,0,0) ├\n",
       "    └──────────┘</pre>"
      ],
      "text/plain": [
       "    ┌──────────┐\n",
       "q0: ┤ U(0,0,0) ├\n",
       "    └──────────┘"
      ]
     },
     "execution_count": 4,
     "metadata": {},
     "output_type": "execute_result"
    }
   ],
   "source": [
    "qc = QuantumCircuit(q)\n",
    "qc.u(0, 0, 0, q)\n",
    "qc.draw()"
   ]
  },
  {
   "cell_type": "code",
   "execution_count": 5,
   "id": "fa43c9d5-f8e3-4c41-a0b7-5bf52418f045",
   "metadata": {},
   "outputs": [
    {
     "data": {
      "text/latex": [
       "$$\n",
       "\n",
       "\\begin{bmatrix}\n",
       "1 & 0  \\\\\n",
       " 0 & 1  \\\\\n",
       " \\end{bmatrix}\n",
       "$$"
      ],
      "text/plain": [
       "<IPython.core.display.Latex object>"
      ]
     },
     "execution_count": 5,
     "metadata": {},
     "output_type": "execute_result"
    }
   ],
   "source": [
    "array_to_latex(Operator(qc))"
   ]
  },
  {
   "cell_type": "markdown",
   "id": "75cc803a-6e0f-4d14-82a1-ff7c60e9375f",
   "metadata": {},
   "source": [
    "In qiskit, the $I$ gate is implemented as <code>QuantumCircuit.id</code> and <code>QuantumCircuit.i</code>."
   ]
  },
  {
   "cell_type": "code",
   "execution_count": 6,
   "id": "452de508-5b09-4ee2-a342-8e52edef65ad",
   "metadata": {},
   "outputs": [
    {
     "data": {
      "text/html": [
       "<pre style=\"word-wrap: normal;white-space: pre;background: #fff0;line-height: 1.1;font-family: &quot;Courier New&quot;,Courier,monospace\">    ┌───┐\n",
       "q0: ┤ I ├\n",
       "    └───┘</pre>"
      ],
      "text/plain": [
       "    ┌───┐\n",
       "q0: ┤ I ├\n",
       "    └───┘"
      ]
     },
     "execution_count": 6,
     "metadata": {},
     "output_type": "execute_result"
    }
   ],
   "source": [
    "qc = QuantumCircuit(q)\n",
    "qc.id(q)\n",
    "qc.draw()"
   ]
  },
  {
   "cell_type": "code",
   "execution_count": 7,
   "id": "2d407640-d757-46b0-8a6d-7da3ace43c7e",
   "metadata": {},
   "outputs": [
    {
     "data": {
      "text/latex": [
       "$$\n",
       "\n",
       "\\begin{bmatrix}\n",
       "1 & 0  \\\\\n",
       " 0 & 1  \\\\\n",
       " \\end{bmatrix}\n",
       "$$"
      ],
      "text/plain": [
       "<IPython.core.display.Latex object>"
      ]
     },
     "execution_count": 7,
     "metadata": {},
     "output_type": "execute_result"
    }
   ],
   "source": [
    "array_to_latex(Operator(qc))"
   ]
  },
  {
   "cell_type": "markdown",
   "id": "9abda2d5-bc8a-45a5-ba73-76b0876c4dac",
   "metadata": {},
   "source": [
    "The $I$ gate is also implemented in the <code>Operator</code> class."
   ]
  },
  {
   "cell_type": "code",
   "execution_count": 8,
   "id": "49e075d1-7c75-4361-bfeb-a589540b830d",
   "metadata": {},
   "outputs": [
    {
     "data": {
      "text/latex": [
       "$$\n",
       "\n",
       "\\begin{bmatrix}\n",
       "1 & 0  \\\\\n",
       " 0 & 1  \\\\\n",
       " \\end{bmatrix}\n",
       "$$"
      ],
      "text/plain": [
       "<IPython.core.display.Latex object>"
      ]
     },
     "execution_count": 8,
     "metadata": {},
     "output_type": "execute_result"
    }
   ],
   "source": [
    "I = Operator.from_label(\"I\")\n",
    "array_to_latex(I)"
   ]
  },
  {
   "cell_type": "markdown",
   "id": "32ce3773-b3e3-4b60-8214-5760f0ea54bb",
   "metadata": {},
   "source": [
    "To replicate the Pauli-$X$ gate, you would rotate $\\theta$, $\\phi$ and $\\lambda$ by $\\pi$, $0$ and $\\pi$, respectively."
   ]
  },
  {
   "cell_type": "markdown",
   "id": "1a7c9281-13db-4001-b099-dfbbd5e56736",
   "metadata": {},
   "source": [
    "$$\\eqalign{\n",
    "U(\\pi,0,\\pi) & = \\begin{pmatrix} \n",
    "                 \\cos \\frac{\\pi}{2} & -e^{i\\pi} \\sin \\frac{\\pi}{2} \\\\\\ \n",
    "                 e^{0} \\sin \\frac{\\pi}{2} & e^{\\pi} \\cos \\frac{\\pi}{2} \n",
    "                 \\end{pmatrix} \\\\\n",
    "             & = \\begin{pmatrix} \n",
    "                 0 & 1 \\\\\\\n",
    "                 1 & 0 \n",
    "                 \\end{pmatrix} \\\\\n",
    "             & = X\n",
    "}$$"
   ]
  },
  {
   "cell_type": "code",
   "execution_count": 9,
   "id": "ff8678ff-8cd1-4274-af55-8a348ec5f505",
   "metadata": {},
   "outputs": [
    {
     "data": {
      "text/html": [
       "<pre style=\"word-wrap: normal;white-space: pre;background: #fff0;line-height: 1.1;font-family: &quot;Courier New&quot;,Courier,monospace\">    ┌──────────┐\n",
       "q0: ┤ U(π,0,π) ├\n",
       "    └──────────┘</pre>"
      ],
      "text/plain": [
       "    ┌──────────┐\n",
       "q0: ┤ U(π,0,π) ├\n",
       "    └──────────┘"
      ]
     },
     "execution_count": 9,
     "metadata": {},
     "output_type": "execute_result"
    }
   ],
   "source": [
    "qc = QuantumCircuit(q)\n",
    "qc.u(pi, 0, pi, q)\n",
    "qc.draw()"
   ]
  },
  {
   "cell_type": "code",
   "execution_count": 10,
   "id": "c3100f42-6b02-4160-8145-303d95d7fe9a",
   "metadata": {},
   "outputs": [
    {
     "data": {
      "text/latex": [
       "$$\n",
       "\n",
       "\\begin{bmatrix}\n",
       "0 & 1  \\\\\n",
       " 1 & 0  \\\\\n",
       " \\end{bmatrix}\n",
       "$$"
      ],
      "text/plain": [
       "<IPython.core.display.Latex object>"
      ]
     },
     "execution_count": 10,
     "metadata": {},
     "output_type": "execute_result"
    }
   ],
   "source": [
    "array_to_latex(Operator(qc))"
   ]
  },
  {
   "cell_type": "markdown",
   "id": "df6c7050-341b-465c-bd1f-f27e7d95602a",
   "metadata": {},
   "source": [
    "In qiskit, the $X$ gate is implemented as <code>QuantumCircuit.x</code>."
   ]
  },
  {
   "cell_type": "code",
   "execution_count": 11,
   "id": "2c1acc40-3f08-4d33-a986-6e38ed9a9ef5",
   "metadata": {},
   "outputs": [
    {
     "data": {
      "text/html": [
       "<pre style=\"word-wrap: normal;white-space: pre;background: #fff0;line-height: 1.1;font-family: &quot;Courier New&quot;,Courier,monospace\">    ┌───┐\n",
       "q0: ┤ X ├\n",
       "    └───┘</pre>"
      ],
      "text/plain": [
       "    ┌───┐\n",
       "q0: ┤ X ├\n",
       "    └───┘"
      ]
     },
     "execution_count": 11,
     "metadata": {},
     "output_type": "execute_result"
    }
   ],
   "source": [
    "qc = QuantumCircuit(q)\n",
    "qc.x(q)\n",
    "qc.draw()"
   ]
  },
  {
   "cell_type": "code",
   "execution_count": 12,
   "id": "b8b3b4de-6326-47e6-acfc-68ce479b9198",
   "metadata": {},
   "outputs": [
    {
     "data": {
      "text/latex": [
       "$$\n",
       "\n",
       "\\begin{bmatrix}\n",
       "0 & 1  \\\\\n",
       " 1 & 0  \\\\\n",
       " \\end{bmatrix}\n",
       "$$"
      ],
      "text/plain": [
       "<IPython.core.display.Latex object>"
      ]
     },
     "execution_count": 12,
     "metadata": {},
     "output_type": "execute_result"
    }
   ],
   "source": [
    "array_to_latex(Operator(qc))"
   ]
  },
  {
   "cell_type": "markdown",
   "id": "68a0f188-9b36-47d1-92d1-89925c5885c9",
   "metadata": {},
   "source": [
    "The $X$ gate is also implemented in the <code>Operator</code> class."
   ]
  },
  {
   "cell_type": "code",
   "execution_count": 13,
   "id": "5765b649-2901-4879-bd73-d072b1fbf37e",
   "metadata": {},
   "outputs": [
    {
     "data": {
      "text/latex": [
       "$$\n",
       "\n",
       "\\begin{bmatrix}\n",
       "0 & 1  \\\\\n",
       " 1 & 0  \\\\\n",
       " \\end{bmatrix}\n",
       "$$"
      ],
      "text/plain": [
       "<IPython.core.display.Latex object>"
      ]
     },
     "execution_count": 13,
     "metadata": {},
     "output_type": "execute_result"
    }
   ],
   "source": [
    "X = Operator.from_label(\"X\")\n",
    "array_to_latex(X)"
   ]
  },
  {
   "cell_type": "markdown",
   "id": "5ea4dfc2-8b00-4056-a82e-d9191ddc699f",
   "metadata": {},
   "source": [
    "### __2. Decompose the CX gate using the I and the X gates__"
   ]
  },
  {
   "cell_type": "code",
   "execution_count": 14,
   "id": "ff4e03f6-787e-4bbd-92b1-c2461256bd16",
   "metadata": {},
   "outputs": [],
   "source": [
    "q = QuantumRegister(2) # Two-Qubit gate"
   ]
  },
  {
   "cell_type": "markdown",
   "id": "9f462c59-9650-4633-bf18-da2112ad5281",
   "metadata": {},
   "source": [
    "The $CX$ gate can be decomposed into single-qubit basis states ($\\ket 0$ and $\\ket 1$), the $I$ gate, and the $X$ gate derived from the $U$ gate as above. "
   ]
  },
  {
   "cell_type": "markdown",
   "id": "62d22ccf-45b0-4af7-a165-f86e18aab0dc",
   "metadata": {},
   "source": [
    "$$\n",
    "CX = \\ket{0} \\bra{0} \\otimes I + \\ket{1} \\bra{1} \\otimes X \\\\\n",
    "$$"
   ]
  },
  {
   "cell_type": "markdown",
   "id": "de5daae6-f26f-43fb-9feb-182a3f7ee3e5",
   "metadata": {},
   "source": [
    "We will define the $CX$ gate using the <code>Operator</code> class."
   ]
  },
  {
   "cell_type": "code",
   "execution_count": 15,
   "id": "230cc5dc-3620-4ac1-9a4c-aa3eaf674a9b",
   "metadata": {},
   "outputs": [],
   "source": [
    "# Single-qubit basis states\n",
    "ket0 = Operator([[1],[0]])       # |0>\n",
    "bra0 = Operator.transpose(ket0)  # <0|\n",
    "ket1 = Operator([[0],[1]])       # |1>\n",
    "bra1 = Operator.transpose(ket1)  # <1|"
   ]
  },
  {
   "cell_type": "code",
   "execution_count": 16,
   "id": "c21bce89-ff77-41ff-aa6b-2ed68ae27c98",
   "metadata": {},
   "outputs": [
    {
     "data": {
      "text/latex": [
       "$$\n",
       "\n",
       "\\begin{bmatrix}\n",
       "1 & 0 & 0 & 0  \\\\\n",
       " 0 & 1 & 0 & 0  \\\\\n",
       " 0 & 0 & 0 & 1  \\\\\n",
       " 0 & 0 & 1 & 0  \\\\\n",
       " \\end{bmatrix}\n",
       "$$"
      ],
      "text/plain": [
       "<IPython.core.display.Latex object>"
      ]
     },
     "execution_count": 16,
     "metadata": {},
     "output_type": "execute_result"
    }
   ],
   "source": [
    "# CX gate\n",
    "CX = ((ket0 ^ bra0) ^ I) + ((ket1 ^ bra1) ^ X)\n",
    "array_to_latex(CX)"
   ]
  },
  {
   "cell_type": "markdown",
   "id": "b0de3415-baed-430b-8a51-a63b36c07f8d",
   "metadata": {},
   "source": [
    "This result is equal to $eq. (2)$."
   ]
  },
  {
   "cell_type": "markdown",
   "id": "99f07d47-fb94-4093-bdee-50efbc12b5b9",
   "metadata": {},
   "source": [
    "In qiskit, the $CX$ gate is implemented as <code>QuantumCircuit.cx</code>."
   ]
  },
  {
   "cell_type": "code",
   "execution_count": 17,
   "id": "0fd3b880-0d1c-453c-bd57-dc99f2cff445",
   "metadata": {},
   "outputs": [
    {
     "data": {
      "text/html": [
       "<pre style=\"word-wrap: normal;white-space: pre;background: #fff0;line-height: 1.1;font-family: &quot;Courier New&quot;,Courier,monospace\">           \n",
       "q1_0: ──■──\n",
       "      ┌─┴─┐\n",
       "q1_1: ┤ X ├\n",
       "      └───┘</pre>"
      ],
      "text/plain": [
       "           \n",
       "q1_0: ──■──\n",
       "      ┌─┴─┐\n",
       "q1_1: ┤ X ├\n",
       "      └───┘"
      ]
     },
     "execution_count": 17,
     "metadata": {},
     "output_type": "execute_result"
    }
   ],
   "source": [
    "qc = QuantumCircuit(q)\n",
    "qc.cx(q[0],q[1])\n",
    "qc.draw()"
   ]
  },
  {
   "cell_type": "code",
   "execution_count": 18,
   "id": "e6d1438e-068c-4356-a781-ee5ae61448c8",
   "metadata": {},
   "outputs": [
    {
     "data": {
      "text/latex": [
       "$$\n",
       "\n",
       "\\begin{bmatrix}\n",
       "1 & 0 & 0 & 0  \\\\\n",
       " 0 & 0 & 0 & 1  \\\\\n",
       " 0 & 0 & 1 & 0  \\\\\n",
       " 0 & 1 & 0 & 0  \\\\\n",
       " \\end{bmatrix}\n",
       "$$"
      ],
      "text/plain": [
       "<IPython.core.display.Latex object>"
      ]
     },
     "execution_count": 18,
     "metadata": {},
     "output_type": "execute_result"
    }
   ],
   "source": [
    "array_to_latex(Operator(qc))"
   ]
  },
  {
   "cell_type": "markdown",
   "id": "055e328e-f4c7-4887-a859-72e8f2ad275c",
   "metadata": {},
   "source": [
    "This result is not exactly equal to $eq. (2)$. This is because Qiskit adopts the little endian convention, where higher qubit indices are more significant. To translate the qiskit result to the convention in many traditional textbooks, we would need to switch the order of qubits."
   ]
  },
  {
   "cell_type": "code",
   "execution_count": 19,
   "id": "883cc9ff-fc15-4fcf-b450-5d434acc6d7a",
   "metadata": {},
   "outputs": [
    {
     "data": {
      "text/html": [
       "<pre style=\"word-wrap: normal;white-space: pre;background: #fff0;line-height: 1.1;font-family: &quot;Courier New&quot;,Courier,monospace\">      ┌───┐\n",
       "q1_0: ┤ X ├\n",
       "      └─┬─┘\n",
       "q1_1: ──■──\n",
       "           </pre>"
      ],
      "text/plain": [
       "      ┌───┐\n",
       "q1_0: ┤ X ├\n",
       "      └─┬─┘\n",
       "q1_1: ──■──\n",
       "           "
      ]
     },
     "execution_count": 19,
     "metadata": {},
     "output_type": "execute_result"
    }
   ],
   "source": [
    "qc = QuantumCircuit(q)\n",
    "qc.cx(q[1],q[0]) # <- qubit order switched\n",
    "qc.draw()"
   ]
  },
  {
   "cell_type": "code",
   "execution_count": 20,
   "id": "eec08ead-055f-4398-b23f-18b6b92f983d",
   "metadata": {},
   "outputs": [
    {
     "data": {
      "text/latex": [
       "$$\n",
       "\n",
       "\\begin{bmatrix}\n",
       "1 & 0 & 0 & 0  \\\\\n",
       " 0 & 1 & 0 & 0  \\\\\n",
       " 0 & 0 & 0 & 1  \\\\\n",
       " 0 & 0 & 1 & 0  \\\\\n",
       " \\end{bmatrix}\n",
       "$$"
      ],
      "text/plain": [
       "<IPython.core.display.Latex object>"
      ]
     },
     "execution_count": 20,
     "metadata": {},
     "output_type": "execute_result"
    }
   ],
   "source": [
    "array_to_latex(Operator(qc))"
   ]
  },
  {
   "cell_type": "markdown",
   "id": "976e9734-28b9-46bb-bb14-64639cbd9c56",
   "metadata": {},
   "source": [
    "This result is equal to $eq. (2)$."
   ]
  },
  {
   "cell_type": "markdown",
   "id": "5bd2cced-5b48-4a8c-8f93-5e78e77bc4bf",
   "metadata": {},
   "source": [
    "### __3. Decompose the CCX gate using the I and the CX gates__"
   ]
  },
  {
   "cell_type": "code",
   "execution_count": 21,
   "id": "d1dc8375-b546-4576-9f65-abfbe6b920d4",
   "metadata": {},
   "outputs": [],
   "source": [
    "q = QuantumRegister(3) # Three-Qubit gate"
   ]
  },
  {
   "cell_type": "markdown",
   "id": "b0be9dd9-eeb8-4b07-b618-a64c9492223b",
   "metadata": {},
   "source": [
    "The $CCX$ (= Toffoli) gate can be decomposed into single-qubit basis states ($\\ket 0$ and $\\ket 1$), the $I$ gate, and the $CX$ gate derived as above. "
   ]
  },
  {
   "cell_type": "markdown",
   "id": "544d03be-bada-499f-8612-234a3ea0a5a0",
   "metadata": {},
   "source": [
    "$$\n",
    "CCX = \\ket{0} \\bra{0} \\otimes I \\otimes I + \\ket{1} \\bra{1} \\otimes CX \\\\\n",
    "$$"
   ]
  },
  {
   "cell_type": "code",
   "execution_count": 22,
   "id": "7089541f-e1fa-43e1-aea5-bb2daea8f255",
   "metadata": {},
   "outputs": [
    {
     "data": {
      "text/latex": [
       "$$\n",
       "\n",
       "\\begin{bmatrix}\n",
       "1 & 0 & 0 & 0 & 0 & 0 & 0 & 0  \\\\\n",
       " 0 & 1 & 0 & 0 & 0 & 0 & 0 & 0  \\\\\n",
       " 0 & 0 & 1 & 0 & 0 & 0 & 0 & 0  \\\\\n",
       " 0 & 0 & 0 & 1 & 0 & 0 & 0 & 0  \\\\\n",
       " 0 & 0 & 0 & 0 & 1 & 0 & 0 & 0  \\\\\n",
       " 0 & 0 & 0 & 0 & 0 & 1 & 0 & 0  \\\\\n",
       " 0 & 0 & 0 & 0 & 0 & 0 & 0 & 1  \\\\\n",
       " 0 & 0 & 0 & 0 & 0 & 0 & 1 & 0  \\\\\n",
       " \\end{bmatrix}\n",
       "$$"
      ],
      "text/plain": [
       "<IPython.core.display.Latex object>"
      ]
     },
     "execution_count": 22,
     "metadata": {},
     "output_type": "execute_result"
    }
   ],
   "source": [
    "# CCX gate\n",
    "CCX = ((ket0 ^ bra0) ^ I ^ I) + ((ket1 ^ bra1) ^ CX)\n",
    "array_to_latex(CCX)"
   ]
  },
  {
   "cell_type": "markdown",
   "id": "8dd9ee39-9ca5-4075-a722-75b78d1e4e8c",
   "metadata": {},
   "source": [
    "This result is equal to $eq. (3)$."
   ]
  },
  {
   "cell_type": "markdown",
   "id": "9f2dbfa2-6f0b-4be2-a81c-ba00ea759cc9",
   "metadata": {},
   "source": [
    "In qiskit, the $CCX$ gate is implemented as <code>QuantumCircuit.ccx</code>."
   ]
  },
  {
   "cell_type": "code",
   "execution_count": 23,
   "id": "6397cd2a-126e-4242-9772-f13425081a7a",
   "metadata": {},
   "outputs": [
    {
     "data": {
      "text/html": [
       "<pre style=\"word-wrap: normal;white-space: pre;background: #fff0;line-height: 1.1;font-family: &quot;Courier New&quot;,Courier,monospace\">           \n",
       "q2_0: ──■──\n",
       "        │  \n",
       "q2_1: ──■──\n",
       "      ┌─┴─┐\n",
       "q2_2: ┤ X ├\n",
       "      └───┘</pre>"
      ],
      "text/plain": [
       "           \n",
       "q2_0: ──■──\n",
       "        │  \n",
       "q2_1: ──■──\n",
       "      ┌─┴─┐\n",
       "q2_2: ┤ X ├\n",
       "      └───┘"
      ]
     },
     "execution_count": 23,
     "metadata": {},
     "output_type": "execute_result"
    }
   ],
   "source": [
    "qc = QuantumCircuit(q)\n",
    "qc.ccx(q[0], q[1], q[2])\n",
    "qc.draw()"
   ]
  },
  {
   "cell_type": "code",
   "execution_count": 24,
   "id": "65171f3c-2cb1-4b62-b4b4-d74f2e5cc2c0",
   "metadata": {},
   "outputs": [
    {
     "data": {
      "text/latex": [
       "$$\n",
       "\n",
       "\\begin{bmatrix}\n",
       "1 & 0 & 0 & 0 & 0 & 0 & 0 & 0  \\\\\n",
       " 0 & 1 & 0 & 0 & 0 & 0 & 0 & 0  \\\\\n",
       " 0 & 0 & 1 & 0 & 0 & 0 & 0 & 0  \\\\\n",
       " 0 & 0 & 0 & 0 & 0 & 0 & 0 & 1  \\\\\n",
       " 0 & 0 & 0 & 0 & 1 & 0 & 0 & 0  \\\\\n",
       " 0 & 0 & 0 & 0 & 0 & 1 & 0 & 0  \\\\\n",
       " 0 & 0 & 0 & 0 & 0 & 0 & 1 & 0  \\\\\n",
       " 0 & 0 & 0 & 1 & 0 & 0 & 0 & 0  \\\\\n",
       " \\end{bmatrix}\n",
       "$$"
      ],
      "text/plain": [
       "<IPython.core.display.Latex object>"
      ]
     },
     "execution_count": 24,
     "metadata": {},
     "output_type": "execute_result"
    }
   ],
   "source": [
    "array_to_latex(Operator(qc))"
   ]
  },
  {
   "cell_type": "markdown",
   "id": "0baf46ec-3cdd-4126-a8a8-37a7251d1e76",
   "metadata": {},
   "source": [
    "As in the $CX$ gate, to translate the qiskit result to the convention in many traditional textbooks, we would need to switch the order of qubits."
   ]
  },
  {
   "cell_type": "code",
   "execution_count": 25,
   "id": "038f3f99-a00f-4769-9405-56bb3aaabbef",
   "metadata": {},
   "outputs": [
    {
     "data": {
      "text/html": [
       "<pre style=\"word-wrap: normal;white-space: pre;background: #fff0;line-height: 1.1;font-family: &quot;Courier New&quot;,Courier,monospace\">      ┌───┐\n",
       "q2_0: ┤ X ├\n",
       "      └─┬─┘\n",
       "q2_1: ──■──\n",
       "        │  \n",
       "q2_2: ──■──\n",
       "           </pre>"
      ],
      "text/plain": [
       "      ┌───┐\n",
       "q2_0: ┤ X ├\n",
       "      └─┬─┘\n",
       "q2_1: ──■──\n",
       "        │  \n",
       "q2_2: ──■──\n",
       "           "
      ]
     },
     "execution_count": 25,
     "metadata": {},
     "output_type": "execute_result"
    }
   ],
   "source": [
    "qc = QuantumCircuit(q)\n",
    "qc.ccx(q[2], q[1], q[0]) # <- qubit order switched\n",
    "qc.draw()"
   ]
  },
  {
   "cell_type": "code",
   "execution_count": 26,
   "id": "36bc0edd-333f-45ac-be74-7589a8e0fd25",
   "metadata": {},
   "outputs": [
    {
     "data": {
      "text/latex": [
       "$$\n",
       "\n",
       "\\begin{bmatrix}\n",
       "1 & 0 & 0 & 0 & 0 & 0 & 0 & 0  \\\\\n",
       " 0 & 1 & 0 & 0 & 0 & 0 & 0 & 0  \\\\\n",
       " 0 & 0 & 1 & 0 & 0 & 0 & 0 & 0  \\\\\n",
       " 0 & 0 & 0 & 1 & 0 & 0 & 0 & 0  \\\\\n",
       " 0 & 0 & 0 & 0 & 1 & 0 & 0 & 0  \\\\\n",
       " 0 & 0 & 0 & 0 & 0 & 1 & 0 & 0  \\\\\n",
       " 0 & 0 & 0 & 0 & 0 & 0 & 0 & 1  \\\\\n",
       " 0 & 0 & 0 & 0 & 0 & 0 & 1 & 0  \\\\\n",
       " \\end{bmatrix}\n",
       "$$"
      ],
      "text/plain": [
       "<IPython.core.display.Latex object>"
      ]
     },
     "execution_count": 26,
     "metadata": {},
     "output_type": "execute_result"
    }
   ],
   "source": [
    "array_to_latex(Operator(qc))"
   ]
  },
  {
   "cell_type": "markdown",
   "id": "8c613223-3190-4a37-9add-66fc0be69abe",
   "metadata": {},
   "source": [
    "This result is equal to $eq. (3)$."
   ]
  },
  {
   "cell_type": "markdown",
   "id": "c386a162-0dd5-4c70-8f0f-26d2dd22fb4c",
   "metadata": {},
   "source": [
    "### __4. Decompose the CCCX gate using the I and the CCX gates__"
   ]
  },
  {
   "cell_type": "code",
   "execution_count": 27,
   "id": "41eb6238-8aa5-49dc-8d78-d0eb0fff17c5",
   "metadata": {},
   "outputs": [],
   "source": [
    "q = QuantumRegister(4) # Four-Qubit gate"
   ]
  },
  {
   "cell_type": "markdown",
   "id": "42ea71f5-945f-4570-870b-88cc97abb274",
   "metadata": {},
   "source": [
    "The $CCCX$ gate can be decomposed into single-qubit basis states ($\\ket 0$ and $\\ket 1$), the $I$ gate, and the $CCX$ gate derived as above. "
   ]
  },
  {
   "cell_type": "markdown",
   "id": "a3816117-cef6-46d9-b067-d09cb952b342",
   "metadata": {},
   "source": [
    "$$\n",
    "CCCX = \\ket{0} \\bra{0} \\otimes I \\otimes I \\otimes I + \\ket{1} \\bra{1} \\otimes CCX \n",
    "$$"
   ]
  },
  {
   "cell_type": "code",
   "execution_count": 28,
   "id": "aefb8df5-07e7-4ac0-9ea3-4f0abe2f6f66",
   "metadata": {},
   "outputs": [
    {
     "data": {
      "text/latex": [
       "$$\n",
       "\n",
       "\\begin{bmatrix}\n",
       "1 & 0 & 0 & 0 & \\cdots & 0 & 0 & 0  \\\\\n",
       " 0 & 1 & 0 & 0 & \\cdots & 0 & 0 & 0  \\\\\n",
       " 0 & 0 & 1 & 0 & \\cdots & 0 & 0 & 0  \\\\\n",
       " 0 & 0 & 0 & 1 & \\cdots & 0 & 0 & 0  \\\\\n",
       " \\vdots & \\vdots & \\vdots & \\vdots & \\ddots & \\vdots & \\vdots & \\vdots \\\\\n",
       " 0 & 0 & 0 & 0 & \\cdots & 1 & 0 & 0  \\\\\n",
       " 0 & 0 & 0 & 0 & \\cdots & 0 & 0 & 1  \\\\\n",
       " 0 & 0 & 0 & 0 & \\cdots & 0 & 1 & 0  \\\\\n",
       " \\end{bmatrix}\n",
       "$$"
      ],
      "text/plain": [
       "<IPython.core.display.Latex object>"
      ]
     },
     "execution_count": 28,
     "metadata": {},
     "output_type": "execute_result"
    }
   ],
   "source": [
    "# CCCX gate\n",
    "CCCX = ((ket0 ^ bra0) ^ I ^ I ^ I) + ((ket1 ^ bra1) ^ CCX)\n",
    "array_to_latex(CCCX)"
   ]
  },
  {
   "cell_type": "markdown",
   "id": "fc23c355-5793-4f84-b999-3e0664ab3f95",
   "metadata": {},
   "source": [
    "This result is equal to $eq. (4)$."
   ]
  },
  {
   "cell_type": "markdown",
   "id": "137f9581-8f5b-4426-9a25-2797eb2cdb0a",
   "metadata": {},
   "source": [
    "In qiskit, the $CCCX$ gate can be implemented using <code>QuantumCircuit.mcx</code>."
   ]
  },
  {
   "cell_type": "code",
   "execution_count": 29,
   "id": "d371a2a7-4edc-472c-b2b7-807624ad34c0",
   "metadata": {},
   "outputs": [
    {
     "data": {
      "text/html": [
       "<pre style=\"word-wrap: normal;white-space: pre;background: #fff0;line-height: 1.1;font-family: &quot;Courier New&quot;,Courier,monospace\">           \n",
       "q3_0: ──■──\n",
       "        │  \n",
       "q3_1: ──■──\n",
       "        │  \n",
       "q3_2: ──■──\n",
       "      ┌─┴─┐\n",
       "q3_3: ┤ X ├\n",
       "      └───┘</pre>"
      ],
      "text/plain": [
       "           \n",
       "q3_0: ──■──\n",
       "        │  \n",
       "q3_1: ──■──\n",
       "        │  \n",
       "q3_2: ──■──\n",
       "      ┌─┴─┐\n",
       "q3_3: ┤ X ├\n",
       "      └───┘"
      ]
     },
     "execution_count": 29,
     "metadata": {},
     "output_type": "execute_result"
    }
   ],
   "source": [
    "qc = QuantumCircuit(q)\n",
    "qc.mcx([q[0], q[1], q[2]], q[3])\n",
    "qc.draw()"
   ]
  },
  {
   "cell_type": "code",
   "execution_count": 30,
   "id": "81091e1b-9c57-4c1f-bf91-1b3a67397f7f",
   "metadata": {},
   "outputs": [
    {
     "data": {
      "text/latex": [
       "$$\n",
       "\n",
       "\\begin{bmatrix}\n",
       "1 & 0 & 0 & 0 & \\cdots & 0 & 0 & 0  \\\\\n",
       " 0 & 1 & 0 & 0 & \\cdots & 0 & 0 & 0  \\\\\n",
       " 0 & 0 & 1 & 0 & \\cdots & 0 & 0 & 0  \\\\\n",
       " 0 & 0 & 0 & 1 & \\cdots & 0 & 0 & 0  \\\\\n",
       " \\vdots & \\vdots & \\vdots & \\vdots & \\ddots & \\vdots & \\vdots & \\vdots \\\\\n",
       " 0 & 0 & 0 & 0 & \\cdots & 1 & 0 & 0  \\\\\n",
       " 0 & 0 & 0 & 0 & \\cdots & 0 & 1 & 0  \\\\\n",
       " 0 & 0 & 0 & 0 & \\cdots & 0 & 0 & 0  \\\\\n",
       " \\end{bmatrix}\n",
       "$$"
      ],
      "text/plain": [
       "<IPython.core.display.Latex object>"
      ]
     },
     "execution_count": 30,
     "metadata": {},
     "output_type": "execute_result"
    }
   ],
   "source": [
    "array_to_latex(Operator(qc))"
   ]
  },
  {
   "cell_type": "markdown",
   "id": "b0fe7c68-2751-4b17-9b4a-d04e357cc16c",
   "metadata": {},
   "source": [
    "As in the $CX$ gate and the $CCX$ gate, to translate the qiskit result to the convention in many traditional textbooks, we would need to switch the order of qubits."
   ]
  },
  {
   "cell_type": "code",
   "execution_count": 31,
   "id": "d7c4824b-c4b3-46eb-baeb-4742250b7861",
   "metadata": {},
   "outputs": [
    {
     "data": {
      "text/html": [
       "<pre style=\"word-wrap: normal;white-space: pre;background: #fff0;line-height: 1.1;font-family: &quot;Courier New&quot;,Courier,monospace\">      ┌───┐\n",
       "q3_0: ┤ X ├\n",
       "      └─┬─┘\n",
       "q3_1: ──■──\n",
       "        │  \n",
       "q3_2: ──■──\n",
       "        │  \n",
       "q3_3: ──■──\n",
       "           </pre>"
      ],
      "text/plain": [
       "      ┌───┐\n",
       "q3_0: ┤ X ├\n",
       "      └─┬─┘\n",
       "q3_1: ──■──\n",
       "        │  \n",
       "q3_2: ──■──\n",
       "        │  \n",
       "q3_3: ──■──\n",
       "           "
      ]
     },
     "execution_count": 31,
     "metadata": {},
     "output_type": "execute_result"
    }
   ],
   "source": [
    "qc = QuantumCircuit(q)\n",
    "qc.mcx([q[3], q[2], q[1]], q[0]) # <- qubit order switched\n",
    "qc.draw()"
   ]
  },
  {
   "cell_type": "code",
   "execution_count": 32,
   "id": "d7b4266c-f9c6-4305-9796-602205448dff",
   "metadata": {},
   "outputs": [
    {
     "data": {
      "text/latex": [
       "$$\n",
       "\n",
       "\\begin{bmatrix}\n",
       "1 & 0 & 0 & 0 & \\cdots & 0 & 0 & 0  \\\\\n",
       " 0 & 1 & 0 & 0 & \\cdots & 0 & 0 & 0  \\\\\n",
       " 0 & 0 & 1 & 0 & \\cdots & 0 & 0 & 0  \\\\\n",
       " 0 & 0 & 0 & 1 & \\cdots & 0 & 0 & 0  \\\\\n",
       " \\vdots & \\vdots & \\vdots & \\vdots & \\ddots & \\vdots & \\vdots & \\vdots \\\\\n",
       " 0 & 0 & 0 & 0 & \\cdots & 1 & 0 & 0  \\\\\n",
       " 0 & 0 & 0 & 0 & \\cdots & 0 & 0 & 1  \\\\\n",
       " 0 & 0 & 0 & 0 & \\cdots & 0 & 1 & 0  \\\\\n",
       " \\end{bmatrix}\n",
       "$$"
      ],
      "text/plain": [
       "<IPython.core.display.Latex object>"
      ]
     },
     "execution_count": 32,
     "metadata": {},
     "output_type": "execute_result"
    }
   ],
   "source": [
    "array_to_latex(Operator(qc))"
   ]
  },
  {
   "cell_type": "markdown",
   "id": "b888fb49-e205-40b4-b9eb-64842e71ff5b",
   "metadata": {},
   "source": [
    "This result is equal to $eq. (4)$."
   ]
  },
  {
   "cell_type": "markdown",
   "id": "2a87c7c6-8472-4b83-80eb-66f4d3fd7b5c",
   "metadata": {},
   "source": [
    "### __5. Create a method for constructing any multi-controlled $X$ gate (bonus)__"
   ]
  },
  {
   "cell_type": "markdown",
   "id": "8f64769e-b1df-48db-941d-eca4fd1b8be3",
   "metadata": {},
   "source": [
    "As in the $CCCX$ gate, any multi-controlled $X$ ($MCX$) gate can be constructed using <code>QuantumCircuit.mcx</code> in qiskit. For example, for an eight-qubit gate,"
   ]
  },
  {
   "cell_type": "code",
   "execution_count": 33,
   "id": "35f46cc0-8a0d-43a1-b87d-d44868525a3e",
   "metadata": {},
   "outputs": [],
   "source": [
    "q = QuantumRegister(8) # Eight-Qubit gate"
   ]
  },
  {
   "cell_type": "code",
   "execution_count": 34,
   "id": "9b0bddeb-b907-4652-8913-61b7890388f3",
   "metadata": {},
   "outputs": [
    {
     "data": {
      "text/html": [
       "<pre style=\"word-wrap: normal;white-space: pre;background: #fff0;line-height: 1.1;font-family: &quot;Courier New&quot;,Courier,monospace\">           \n",
       "q4_0: ──■──\n",
       "        │  \n",
       "q4_1: ──■──\n",
       "        │  \n",
       "q4_2: ──■──\n",
       "        │  \n",
       "q4_3: ──■──\n",
       "        │  \n",
       "q4_4: ──■──\n",
       "        │  \n",
       "q4_5: ──■──\n",
       "        │  \n",
       "q4_6: ──■──\n",
       "      ┌─┴─┐\n",
       "q4_7: ┤ X ├\n",
       "      └───┘</pre>"
      ],
      "text/plain": [
       "           \n",
       "q4_0: ──■──\n",
       "        │  \n",
       "q4_1: ──■──\n",
       "        │  \n",
       "q4_2: ──■──\n",
       "        │  \n",
       "q4_3: ──■──\n",
       "        │  \n",
       "q4_4: ──■──\n",
       "        │  \n",
       "q4_5: ──■──\n",
       "        │  \n",
       "q4_6: ──■──\n",
       "      ┌─┴─┐\n",
       "q4_7: ┤ X ├\n",
       "      └───┘"
      ]
     },
     "execution_count": 34,
     "metadata": {},
     "output_type": "execute_result"
    }
   ],
   "source": [
    "qc = QuantumCircuit(q)\n",
    "qc.mcx([q[0], q[1], q[2], q[3], q[4], q[5], q[6]], q[7])\n",
    "qc.draw()"
   ]
  },
  {
   "cell_type": "code",
   "execution_count": 35,
   "id": "c523785d-64a5-481d-8f6a-8a7f54ead3f3",
   "metadata": {},
   "outputs": [
    {
     "data": {
      "text/latex": [
       "$$\n",
       "\n",
       "\\begin{bmatrix}\n",
       "1 & 0 & 0 & 0 & \\cdots & 0 & 0 & 0  \\\\\n",
       " 0 & 1 & 0 & 0 & \\cdots & 0 & 0 & 0  \\\\\n",
       " 0 & 0 & 1 & 0 & \\cdots & 0 & 0 & 0  \\\\\n",
       " 0 & 0 & 0 & 1 & \\cdots & 0 & 0 & 0  \\\\\n",
       " \\vdots & \\vdots & \\vdots & \\vdots & \\ddots & \\vdots & \\vdots & \\vdots \\\\\n",
       " 0 & 0 & 0 & 0 & \\cdots & 1 & 0 & 0  \\\\\n",
       " 0 & 0 & 0 & 0 & \\cdots & 0 & 1 & 0  \\\\\n",
       " 0 & 0 & 0 & 0 & \\cdots & 0 & 0 & 0  \\\\\n",
       " \\end{bmatrix}\n",
       "$$"
      ],
      "text/plain": [
       "<IPython.core.display.Latex object>"
      ]
     },
     "execution_count": 35,
     "metadata": {},
     "output_type": "execute_result"
    }
   ],
   "source": [
    "array_to_latex(Operator(qc))"
   ]
  },
  {
   "cell_type": "markdown",
   "id": "77eb0028-58c2-45d6-bd77-af534415febb",
   "metadata": {},
   "source": [
    "To translate the qiskit result to the convention in many traditional textbooks, we would need to switch the order of qubits."
   ]
  },
  {
   "cell_type": "code",
   "execution_count": 36,
   "id": "aee79b05-6c3f-481f-b300-90d3d97403a1",
   "metadata": {},
   "outputs": [
    {
     "data": {
      "text/html": [
       "<pre style=\"word-wrap: normal;white-space: pre;background: #fff0;line-height: 1.1;font-family: &quot;Courier New&quot;,Courier,monospace\">      ┌───┐\n",
       "q4_0: ┤ X ├\n",
       "      └─┬─┘\n",
       "q4_1: ──■──\n",
       "        │  \n",
       "q4_2: ──■──\n",
       "        │  \n",
       "q4_3: ──■──\n",
       "        │  \n",
       "q4_4: ──■──\n",
       "        │  \n",
       "q4_5: ──■──\n",
       "        │  \n",
       "q4_6: ──■──\n",
       "        │  \n",
       "q4_7: ──■──\n",
       "           </pre>"
      ],
      "text/plain": [
       "      ┌───┐\n",
       "q4_0: ┤ X ├\n",
       "      └─┬─┘\n",
       "q4_1: ──■──\n",
       "        │  \n",
       "q4_2: ──■──\n",
       "        │  \n",
       "q4_3: ──■──\n",
       "        │  \n",
       "q4_4: ──■──\n",
       "        │  \n",
       "q4_5: ──■──\n",
       "        │  \n",
       "q4_6: ──■──\n",
       "        │  \n",
       "q4_7: ──■──\n",
       "           "
      ]
     },
     "execution_count": 36,
     "metadata": {},
     "output_type": "execute_result"
    }
   ],
   "source": [
    "qc = QuantumCircuit(q)\n",
    "qc.mcx([q[7], q[6], q[5], q[4], q[3], q[2], q[1]], q[0]) # <- qubit order switched\n",
    "qc.draw()"
   ]
  },
  {
   "cell_type": "code",
   "execution_count": 37,
   "id": "025a54c9-1e7a-46b4-a2f4-e144ce5af2ee",
   "metadata": {},
   "outputs": [
    {
     "data": {
      "text/latex": [
       "$$\n",
       "\n",
       "\\begin{bmatrix}\n",
       "1 & 0 & 0 & 0 & \\cdots & 0 & 0 & 0  \\\\\n",
       " 0 & 1 & 0 & 0 & \\cdots & 0 & 0 & 0  \\\\\n",
       " 0 & 0 & 1 & 0 & \\cdots & 0 & 0 & 0  \\\\\n",
       " 0 & 0 & 0 & 1 & \\cdots & 0 & 0 & 0  \\\\\n",
       " \\vdots & \\vdots & \\vdots & \\vdots & \\ddots & \\vdots & \\vdots & \\vdots \\\\\n",
       " 0 & 0 & 0 & 0 & \\cdots & 1 & 0 & 0  \\\\\n",
       " 0 & 0 & 0 & 0 & \\cdots & 0 & 0 & 1  \\\\\n",
       " 0 & 0 & 0 & 0 & \\cdots & 0 & 1 & 0  \\\\\n",
       " \\end{bmatrix}\n",
       "$$"
      ],
      "text/plain": [
       "<IPython.core.display.Latex object>"
      ]
     },
     "execution_count": 37,
     "metadata": {},
     "output_type": "execute_result"
    }
   ],
   "source": [
    "array_to_latex(Operator(qc))"
   ]
  }
 ],
 "metadata": {
  "kernelspec": {
   "display_name": "Qiskit (stable)",
   "language": "python",
   "name": "qiskit-stable"
  },
  "language_info": {
   "codemirror_mode": {
    "name": "ipython",
    "version": 3
   },
   "file_extension": ".py",
   "mimetype": "text/x-python",
   "name": "python",
   "nbconvert_exporter": "python",
   "pygments_lexer": "ipython3",
   "version": "3.9.17"
  }
 },
 "nbformat": 4,
 "nbformat_minor": 5
}
